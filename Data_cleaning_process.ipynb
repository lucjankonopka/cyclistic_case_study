{
 "cells": [
  {
   "cell_type": "code",
   "execution_count": 2,
   "metadata": {},
   "outputs": [],
   "source": [
    "import pandas as pd\n",
    "\n",
    "# IMPORTING RAW DATA:\n",
    "okt2021 = pd.read_csv('workfiles/202110-divvy-tripdata.csv', index_col=0)\n",
    "nov2021 = pd.read_csv('workfiles/202111-divvy-tripdata.csv', index_col=0)\n",
    "dec2021 = pd.read_csv('workfiles/202112-divvy-tripdata.csv', index_col=0)\n",
    "jan2022 = pd.read_csv('workfiles/202201-divvy-tripdata.csv', index_col=0)\n",
    "feb2022 = pd.read_csv('workfiles/202202-divvy-tripdata.csv', index_col=0)\n",
    "mar2022 = pd.read_csv('workfiles/202203-divvy-tripdata.csv', index_col=0)\n",
    "apr2022 = pd.read_csv('workfiles/202204-divvy-tripdata.csv', index_col=0)\n",
    "may2022 = pd.read_csv('workfiles/202205-divvy-tripdata.csv', index_col=0)\n",
    "jun2022 = pd.read_csv('workfiles/202206-divvy-tripdata.csv', index_col=0)\n",
    "jul2022 = pd.read_csv('workfiles/202207-divvy-tripdata.csv', index_col=0)\n",
    "aug2022 = pd.read_csv('workfiles/202208-divvy-tripdata.csv', index_col=0)\n",
    "sep2022 = pd.read_csv('workfiles/202209-divvy-tripdata.csv', index_col=0)"
   ]
  }
 ],
 "metadata": {
  "kernelspec": {
   "display_name": "Python 3",
   "language": "python",
   "name": "python3"
  },
  "language_info": {
   "codemirror_mode": {
    "name": "ipython",
    "version": 3
   },
   "file_extension": ".py",
   "mimetype": "text/x-python",
   "name": "python",
   "nbconvert_exporter": "python",
   "pygments_lexer": "ipython3",
   "version": "3.10.9"
  },
  "orig_nbformat": 4,
  "vscode": {
   "interpreter": {
    "hash": "cef1d38ca744d99e247d6c4d165e12a9aa3f29f1e83d9722af487dd60dc4e580"
   }
  }
 },
 "nbformat": 4,
 "nbformat_minor": 2
}
