{
 "cells": [
  {
   "attachments": {},
   "cell_type": "markdown",
   "metadata": {},
   "source": [
    "# Data Cleaning Process \n",
    "\n",
    "Source file: *cyclistic_data_cleaning.py*\n"
   ]
  },
  {
   "attachments": {},
   "cell_type": "markdown",
   "metadata": {},
   "source": [
    "##### Loading pandas library:"
   ]
  },
  {
   "cell_type": "code",
   "execution_count": 45,
   "metadata": {},
   "outputs": [],
   "source": [
    "import pandas as pd"
   ]
  },
  {
   "attachments": {},
   "cell_type": "markdown",
   "metadata": {},
   "source": [
    "##### Importing raw data:"
   ]
  },
  {
   "cell_type": "code",
   "execution_count": 46,
   "metadata": {},
   "outputs": [],
   "source": [
    "okt2021 = pd.read_csv('workfiles/202110-divvy-tripdata.csv', index_col=0)\n",
    "nov2021 = pd.read_csv('workfiles/202111-divvy-tripdata.csv', index_col=0)\n",
    "dec2021 = pd.read_csv('workfiles/202112-divvy-tripdata.csv', index_col=0)\n",
    "jan2022 = pd.read_csv('workfiles/202201-divvy-tripdata.csv', index_col=0)\n",
    "feb2022 = pd.read_csv('workfiles/202202-divvy-tripdata.csv', index_col=0)\n",
    "mar2022 = pd.read_csv('workfiles/202203-divvy-tripdata.csv', index_col=0)\n",
    "apr2022 = pd.read_csv('workfiles/202204-divvy-tripdata.csv', index_col=0)\n",
    "may2022 = pd.read_csv('workfiles/202205-divvy-tripdata.csv', index_col=0)\n",
    "jun2022 = pd.read_csv('workfiles/202206-divvy-tripdata.csv', index_col=0)\n",
    "jul2022 = pd.read_csv('workfiles/202207-divvy-tripdata.csv', index_col=0)\n",
    "aug2022 = pd.read_csv('workfiles/202208-divvy-tripdata.csv', index_col=0)\n",
    "sep2022 = pd.read_csv('workfiles/202209-divvy-tripdata.csv', index_col=0)"
   ]
  },
  {
   "attachments": {},
   "cell_type": "markdown",
   "metadata": {},
   "source": [
    "##### Merging all datasets:"
   ]
  },
  {
   "cell_type": "code",
   "execution_count": 47,
   "metadata": {},
   "outputs": [],
   "source": [
    "# Merging all datasets into one:\n",
    "dataframe = [okt2021, nov2021, dec2021, jan2022, feb2022,\n",
    "             mar2022, apr2022, may2022, jun2022, jul2022, aug2022, sep2022]\n",
    "df_complete = pd.concat(dataframe)"
   ]
  },
  {
   "attachments": {},
   "cell_type": "markdown",
   "metadata": {},
   "source": [
    "##### Checking the structure of all dataset files:\n",
    "All tables should have the same structure to complete the merging step successfully. Check\n",
    "showed that all 12 datasets have a countable number of rows and 12 columns with the same\n",
    "index names."
   ]
  },
  {
   "cell_type": "code",
   "execution_count": null,
   "metadata": {},
   "outputs": [],
   "source": [
    "# Checking number and columns and its names in datasets:\n",
    "for _ in dataframe:\n",
    "    print(_.shape)\n",
    "    print(_.columns)\n",
    "# Raw datasets contain 12 same columns. Tables are consistent."
   ]
  },
  {
   "attachments": {},
   "cell_type": "markdown",
   "metadata": {},
   "source": [
    "##### Checking the structure of the merged dataset:\n",
    "Merged table keeps the structure of the single raw dataset. It has 5.828.235 rows and 12\n",
    "columns."
   ]
  },
  {
   "cell_type": "code",
   "execution_count": 49,
   "metadata": {},
   "outputs": [
    {
     "data": {
      "text/plain": [
       "(5828235, 12)"
      ]
     },
     "execution_count": 49,
     "metadata": {},
     "output_type": "execute_result"
    }
   ],
   "source": [
    "df_complete.shape"
   ]
  },
  {
   "cell_type": "code",
   "execution_count": 50,
   "metadata": {},
   "outputs": [
    {
     "data": {
      "text/plain": [
       "Index(['rideable_type', 'started_at', 'ended_at', 'start_station_name',\n",
       "       'start_station_id', 'end_station_name', 'end_station_id', 'start_lat',\n",
       "       'start_lng', 'end_lat', 'end_lng', 'member_casual'],\n",
       "      dtype='object')"
      ]
     },
     "execution_count": 50,
     "metadata": {},
     "output_type": "execute_result"
    }
   ],
   "source": [
    "df_complete.columns"
   ]
  },
  {
   "attachments": {},
   "cell_type": "markdown",
   "metadata": {},
   "source": [
    "##### Pushing “ride_id” index at the beginning of the table:"
   ]
  },
  {
   "cell_type": "code",
   "execution_count": 51,
   "metadata": {},
   "outputs": [],
   "source": [
    "df_complete = df_complete.reset_index(level=0)"
   ]
  },
  {
   "attachments": {},
   "cell_type": "markdown",
   "metadata": {},
   "source": [
    "##### Checking data types:"
   ]
  },
  {
   "cell_type": "code",
   "execution_count": 52,
   "metadata": {},
   "outputs": [
    {
     "data": {
      "text/plain": [
       "ride_id                object\n",
       "rideable_type          object\n",
       "started_at             object\n",
       "ended_at               object\n",
       "start_station_name     object\n",
       "start_station_id       object\n",
       "end_station_name       object\n",
       "end_station_id         object\n",
       "start_lat             float64\n",
       "start_lng             float64\n",
       "end_lat               float64\n",
       "end_lng               float64\n",
       "member_casual          object\n",
       "dtype: object"
      ]
     },
     "execution_count": 52,
     "metadata": {},
     "output_type": "execute_result"
    }
   ],
   "source": [
    "df_complete.dtypes"
   ]
  },
  {
   "attachments": {},
   "cell_type": "markdown",
   "metadata": {},
   "source": [
    "##### Changing data types to datetype format:"
   ]
  },
  {
   "cell_type": "code",
   "execution_count": 53,
   "metadata": {},
   "outputs": [
    {
     "data": {
      "text/plain": [
       "Timestamp('2021-10-22 12:46:42')"
      ]
     },
     "execution_count": 53,
     "metadata": {},
     "output_type": "execute_result"
    }
   ],
   "source": [
    "# Columns \"started_at\" and \"ended_at\" should be in datetype format:\n",
    "df_complete['started_at'] = pd.to_datetime(df_complete['started_at'])\n",
    "# Checking first cell:\n",
    "df_complete['started_at'][0]"
   ]
  },
  {
   "cell_type": "code",
   "execution_count": 54,
   "metadata": {},
   "outputs": [
    {
     "data": {
      "text/plain": [
       "Timestamp('2021-10-22 12:49:50')"
      ]
     },
     "execution_count": 54,
     "metadata": {},
     "output_type": "execute_result"
    }
   ],
   "source": [
    "df_complete['ended_at'] = pd.to_datetime(df_complete['ended_at'])\n",
    "# Checking first cell:\n",
    "df_complete['ended_at'][0]"
   ]
  },
  {
   "attachments": {},
   "cell_type": "markdown",
   "metadata": {},
   "source": [
    "##### Looking for “typos” or “misspellings” in the whole set:"
   ]
  },
  {
   "cell_type": "code",
   "execution_count": 55,
   "metadata": {},
   "outputs": [
    {
     "data": {
      "text/plain": [
       "array(['electric_bike', 'docked_bike', 'classic_bike'], dtype=object)"
      ]
     },
     "execution_count": 55,
     "metadata": {},
     "output_type": "execute_result"
    }
   ],
   "source": [
    "df_complete.rideable_type.unique()\n",
    "# There are 3 types of bikes: \"electric bike\", \"docked bike\" and \"classic bike\". No errors."
   ]
  },
  {
   "cell_type": "code",
   "execution_count": 56,
   "metadata": {},
   "outputs": [
    {
     "data": {
      "text/plain": [
       "array(['member', 'casual'], dtype=object)"
      ]
     },
     "execution_count": 56,
     "metadata": {},
     "output_type": "execute_result"
    }
   ],
   "source": [
    "df_complete.member_casual.unique()\n",
    "# There are 2 types of users: \"casual\", \"member\". No errors."
   ]
  },
  {
   "cell_type": "code",
   "execution_count": 57,
   "metadata": {},
   "outputs": [
    {
     "data": {
      "text/plain": [
       "13022           75985\n",
       "13300           42035\n",
       "LF-005          40592\n",
       "13042           40119\n",
       "TA1308000050    39352\n",
       "                ...  \n",
       "945                 1\n",
       "925                 1\n",
       "868                 1\n",
       "886                 1\n",
       "959                 1\n",
       "Name: start_station_id, Length: 1302, dtype: int64"
      ]
     },
     "execution_count": 57,
     "metadata": {},
     "output_type": "execute_result"
    }
   ],
   "source": [
    "df_complete.start_station_id.value_counts()"
   ]
  },
  {
   "cell_type": "code",
   "execution_count": 58,
   "metadata": {},
   "outputs": [
    {
     "data": {
      "text/plain": [
       "Streeter Dr & Grand Ave                  75985\n",
       "DuSable Lake Shore Dr & Monroe St        42035\n",
       "DuSable Lake Shore Dr & North Blvd       40592\n",
       "Michigan Ave & Oak St                    40119\n",
       "Wells St & Concord Ln                    39352\n",
       "                                         ...  \n",
       "Public Rack - Chappel Ave & 71st St          1\n",
       "Public Rack - Maplewood Ave & 47th St        1\n",
       "Lawndale Ave & Polk St                       1\n",
       "Public Rack - Halsted St & 63rd St           1\n",
       "Troy & 111th St                              1\n",
       "Name: start_station_name, Length: 1591, dtype: int64"
      ]
     },
     "execution_count": 58,
     "metadata": {},
     "output_type": "execute_result"
    }
   ],
   "source": [
    "df_complete.start_station_name.value_counts()"
   ]
  },
  {
   "cell_type": "code",
   "execution_count": 59,
   "metadata": {},
   "outputs": [
    {
     "data": {
      "text/plain": [
       "13022           76510\n",
       "LF-005          42621\n",
       "13042           40643\n",
       "13300           40633\n",
       "TA1308000050    39196\n",
       "                ...  \n",
       "973                 1\n",
       "978                 1\n",
       "959                 1\n",
       "924                 1\n",
       "1063                1\n",
       "Name: end_station_id, Length: 1309, dtype: int64"
      ]
     },
     "execution_count": 59,
     "metadata": {},
     "output_type": "execute_result"
    }
   ],
   "source": [
    "df_complete.end_station_id.value_counts()"
   ]
  },
  {
   "cell_type": "code",
   "execution_count": 60,
   "metadata": {},
   "outputs": [
    {
     "data": {
      "text/plain": [
       "Streeter Dr & Grand Ave                 76510\n",
       "DuSable Lake Shore Dr & North Blvd      42621\n",
       "Michigan Ave & Oak St                   40643\n",
       "DuSable Lake Shore Dr & Monroe St       40633\n",
       "Wells St & Concord Ln                   39196\n",
       "                                        ...  \n",
       "Public Rack - Homan Ave & Roosevelt         1\n",
       "Public Rack - East End Ave & 75th St        1\n",
       "Public Rack - 53rd St & Indiana Ave         1\n",
       "Public Rack - Yates Ave & 100th St          1\n",
       "Public Rack - Kedzie & 103rd St - W         1\n",
       "Name: end_station_name, Length: 1609, dtype: int64"
      ]
     },
     "execution_count": 60,
     "metadata": {},
     "output_type": "execute_result"
    }
   ],
   "source": [
    "df_complete.end_station_name.value_counts()\n",
    "# There are many names and id's that occur just once. \n",
    "# They could be error inputs or new/deleted stations. To further investigation"
   ]
  },
  {
   "attachments": {},
   "cell_type": "markdown",
   "metadata": {},
   "source": [
    "No such errors were found.\n",
    "There are many station names and id's that occur just once. They could be error inputs or\n",
    "new/deleted stations. This problem has been left at this point to eventual further\n",
    "investigation."
   ]
  },
  {
   "attachments": {},
   "cell_type": "markdown",
   "metadata": {},
   "source": [
    "#### Checking length of the ride id’s and looking for its duplicates:"
   ]
  },
  {
   "cell_type": "code",
   "execution_count": 61,
   "metadata": {},
   "outputs": [
    {
     "data": {
      "text/plain": [
       "array([16], dtype=int64)"
      ]
     },
     "execution_count": 61,
     "metadata": {},
     "output_type": "execute_result"
    }
   ],
   "source": [
    "# Checking length of the id's:\n",
    "df_complete['ride_id'].map(len).unique()\n",
    "# All id's have 16 characters"
   ]
  },
  {
   "cell_type": "code",
   "execution_count": 62,
   "metadata": {},
   "outputs": [
    {
     "data": {
      "text/plain": [
       "False    5828235\n",
       "dtype: int64"
      ]
     },
     "execution_count": 62,
     "metadata": {},
     "output_type": "execute_result"
    }
   ],
   "source": [
    "# Checking for duplicate inputs based on ride id:\n",
    "df_complete.duplicated(subset=['ride_id']).value_counts()\n",
    "# There are no duplicates of ride ids"
   ]
  },
  {
   "attachments": {},
   "cell_type": "markdown",
   "metadata": {},
   "source": [
    "#### Checking for empty cells, null values in single columns:"
   ]
  },
  {
   "cell_type": "code",
   "execution_count": 63,
   "metadata": {},
   "outputs": [
    {
     "name": "stdout",
     "output_type": "stream",
     "text": [
      "False    5828235\n",
      "Name: ride_id, dtype: int64\n",
      "False    5828235\n",
      "Name: rideable_type, dtype: int64\n",
      "False    5828235\n",
      "Name: started_at, dtype: int64\n",
      "False    5828235\n",
      "Name: ended_at, dtype: int64\n",
      "False    4933203\n",
      "True      895032\n",
      "Name: start_station_name, dtype: int64\n",
      "False    4933203\n",
      "True      895032\n",
      "Name: start_station_id, dtype: int64\n",
      "False    4870008\n",
      "True      958227\n",
      "Name: end_station_name, dtype: int64\n",
      "False    4870008\n",
      "True      958227\n",
      "Name: end_station_id, dtype: int64\n",
      "False    5828235\n",
      "Name: start_lat, dtype: int64\n",
      "False    5828235\n",
      "Name: start_lng, dtype: int64\n",
      "False    5822391\n",
      "True        5844\n",
      "Name: end_lat, dtype: int64\n",
      "False    5822391\n",
      "True        5844\n",
      "Name: end_lng, dtype: int64\n",
      "False    5828235\n",
      "Name: member_casual, dtype: int64\n"
     ]
    }
   ],
   "source": [
    "# Checking for empty cells, null values:\n",
    "for column in df_complete.columns:\n",
    "    print(df_complete[column].isnull().value_counts())\n",
    "\n",
    "# 895032 rows with empty cells or null values in start station description columns\n",
    "# start_station_id inconsistent length and format\n",
    "\n",
    "# 958227 rows with empty cells or null values in start station description columns\n",
    "# end_station_id inconsistent length and format\n",
    "\n",
    "# 821264 rows where both start and end station is not given\n",
    "\n",
    "# 5844 rows with empty cells or null values in end coordinates columns"
   ]
  },
  {
   "attachments": {},
   "cell_type": "markdown",
   "metadata": {},
   "source": [
    "There were few inputs without recorded station description (names or id’s) or coordinates."
   ]
  },
  {
   "attachments": {},
   "cell_type": "markdown",
   "metadata": {},
   "source": [
    "#### Removing incomplete instances and checking the number of deleted rows:"
   ]
  },
  {
   "cell_type": "code",
   "execution_count": 64,
   "metadata": {},
   "outputs": [
    {
     "data": {
      "text/plain": [
       "(4474141, 13)"
      ]
     },
     "execution_count": 64,
     "metadata": {},
     "output_type": "execute_result"
    }
   ],
   "source": [
    "# Deleting rows with missing data:\n",
    "no_nan_data = df_complete.dropna()\n",
    "no_nan_data.shape"
   ]
  },
  {
   "attachments": {},
   "cell_type": "markdown",
   "metadata": {},
   "source": [
    "The dataset without NAN values contains 4474141 rows which is 76% of the whole set."
   ]
  },
  {
   "attachments": {},
   "cell_type": "markdown",
   "metadata": {},
   "source": [
    "#### Looking for unwanted data – test data:\n",
    "There were few instances with “TEST” in start and end station id’s columns. All of them should not be considered. After deletion there were 4472680 rows left (about 75% of the whole\n",
    "dataset)."
   ]
  },
  {
   "cell_type": "code",
   "execution_count": 65,
   "metadata": {},
   "outputs": [
    {
     "data": {
      "text/plain": [
       "False    4472934\n",
       "True        1207\n",
       "Name: start_station_id, dtype: int64"
      ]
     },
     "execution_count": 65,
     "metadata": {},
     "output_type": "execute_result"
    }
   ],
   "source": [
    "# Searching for the unwanted data - test data.\n",
    "# Context: TEST found in one of the start stations id's \"Hubbard Bike-checking (LBS-WH-TEST)\"\n",
    "no_nan_data['start_station_id'].str.contains('TEST').value_counts()\n",
    "# 1207 test rides found in start station id's. All should not be considered."
   ]
  },
  {
   "cell_type": "code",
   "execution_count": 66,
   "metadata": {},
   "outputs": [
    {
     "data": {
      "text/plain": [
       "False    4474141\n",
       "Name: start_station_name, dtype: int64"
      ]
     },
     "execution_count": 66,
     "metadata": {},
     "output_type": "execute_result"
    }
   ],
   "source": [
    "no_nan_data['start_station_name'].str.contains('TEST').value_counts()\n",
    "# No test rides found in start station names."
   ]
  },
  {
   "cell_type": "code",
   "execution_count": 67,
   "metadata": {},
   "outputs": [],
   "source": [
    "# Deleting test rides:\n",
    "no_test_start_data = no_nan_data[no_nan_data['start_station_id'].str.contains(\n",
    "    'TEST') != True]"
   ]
  },
  {
   "cell_type": "code",
   "execution_count": 68,
   "metadata": {},
   "outputs": [
    {
     "data": {
      "text/plain": [
       "False    4472680\n",
       "True         254\n",
       "Name: end_station_id, dtype: int64"
      ]
     },
     "execution_count": 68,
     "metadata": {},
     "output_type": "execute_result"
    }
   ],
   "source": [
    "no_test_start_data['end_station_id'].str.contains('TEST').value_counts()\n",
    "# 254 test rides found in rest end station id's. All should not be considered."
   ]
  },
  {
   "cell_type": "code",
   "execution_count": 69,
   "metadata": {},
   "outputs": [
    {
     "data": {
      "text/plain": [
       "False    4472934\n",
       "Name: end_station_name, dtype: int64"
      ]
     },
     "execution_count": 69,
     "metadata": {},
     "output_type": "execute_result"
    }
   ],
   "source": [
    "no_test_start_data['end_station_name'].str.contains('TEST').value_counts()\n",
    "# No test rides found in end station names."
   ]
  },
  {
   "cell_type": "code",
   "execution_count": 70,
   "metadata": {},
   "outputs": [],
   "source": [
    "# Deleting test rides:\n",
    "no_nan_no_test_data = no_test_start_data[no_test_start_data['end_station_id'].str.contains(\n",
    "    'TEST') != True]\n",
    "# 4472680 rows left"
   ]
  },
  {
   "attachments": {},
   "cell_type": "markdown",
   "metadata": {},
   "source": [
    "## Preparing the data:\n",
    "#### Adding new column to calculate ride time:"
   ]
  },
  {
   "cell_type": "code",
   "execution_count": 71,
   "metadata": {},
   "outputs": [
    {
     "data": {
      "text/html": [
       "<div>\n",
       "<style scoped>\n",
       "    .dataframe tbody tr th:only-of-type {\n",
       "        vertical-align: middle;\n",
       "    }\n",
       "\n",
       "    .dataframe tbody tr th {\n",
       "        vertical-align: top;\n",
       "    }\n",
       "\n",
       "    .dataframe thead th {\n",
       "        text-align: right;\n",
       "    }\n",
       "</style>\n",
       "<table border=\"1\" class=\"dataframe\">\n",
       "  <thead>\n",
       "    <tr style=\"text-align: right;\">\n",
       "      <th></th>\n",
       "      <th>ride_id</th>\n",
       "      <th>rideable_type</th>\n",
       "      <th>started_at</th>\n",
       "      <th>ended_at</th>\n",
       "      <th>start_station_name</th>\n",
       "      <th>start_station_id</th>\n",
       "      <th>end_station_name</th>\n",
       "      <th>end_station_id</th>\n",
       "      <th>start_lat</th>\n",
       "      <th>start_lng</th>\n",
       "      <th>end_lat</th>\n",
       "      <th>end_lng</th>\n",
       "      <th>member_casual</th>\n",
       "    </tr>\n",
       "  </thead>\n",
       "  <tbody>\n",
       "    <tr>\n",
       "      <th>25</th>\n",
       "      <td>614B15BC42810184</td>\n",
       "      <td>docked_bike</td>\n",
       "      <td>2021-10-05 10:56:05</td>\n",
       "      <td>2021-10-05 11:38:48</td>\n",
       "      <td>Michigan Ave &amp; Oak St</td>\n",
       "      <td>13042</td>\n",
       "      <td>Michigan Ave &amp; Oak St</td>\n",
       "      <td>13042</td>\n",
       "      <td>41.900960</td>\n",
       "      <td>-87.623777</td>\n",
       "      <td>41.900960</td>\n",
       "      <td>-87.623777</td>\n",
       "      <td>casual</td>\n",
       "    </tr>\n",
       "    <tr>\n",
       "      <th>69</th>\n",
       "      <td>ADCC6E3CF9C04688</td>\n",
       "      <td>classic_bike</td>\n",
       "      <td>2021-10-06 13:55:33</td>\n",
       "      <td>2021-10-06 13:58:16</td>\n",
       "      <td>Desplaines St &amp; Kinzie St</td>\n",
       "      <td>TA1306000003</td>\n",
       "      <td>Kingsbury St &amp; Kinzie St</td>\n",
       "      <td>KA1503000043</td>\n",
       "      <td>41.888716</td>\n",
       "      <td>-87.644448</td>\n",
       "      <td>41.889177</td>\n",
       "      <td>-87.638506</td>\n",
       "      <td>member</td>\n",
       "    </tr>\n",
       "    <tr>\n",
       "      <th>76</th>\n",
       "      <td>6184CC57243AEF3C</td>\n",
       "      <td>docked_bike</td>\n",
       "      <td>2021-10-16 10:19:43</td>\n",
       "      <td>2021-10-16 12:01:20</td>\n",
       "      <td>Michigan Ave &amp; Oak St</td>\n",
       "      <td>13042</td>\n",
       "      <td>Michigan Ave &amp; Oak St</td>\n",
       "      <td>13042</td>\n",
       "      <td>41.900960</td>\n",
       "      <td>-87.623777</td>\n",
       "      <td>41.900960</td>\n",
       "      <td>-87.623777</td>\n",
       "      <td>casual</td>\n",
       "    </tr>\n",
       "    <tr>\n",
       "      <th>84</th>\n",
       "      <td>DE02D027BAC5C820</td>\n",
       "      <td>docked_bike</td>\n",
       "      <td>2021-10-24 11:03:34</td>\n",
       "      <td>2021-10-24 13:10:01</td>\n",
       "      <td>Michigan Ave &amp; Oak St</td>\n",
       "      <td>13042</td>\n",
       "      <td>Michigan Ave &amp; Oak St</td>\n",
       "      <td>13042</td>\n",
       "      <td>41.900960</td>\n",
       "      <td>-87.623777</td>\n",
       "      <td>41.900960</td>\n",
       "      <td>-87.623777</td>\n",
       "      <td>casual</td>\n",
       "    </tr>\n",
       "    <tr>\n",
       "      <th>94</th>\n",
       "      <td>E7C9BADDF2308D0D</td>\n",
       "      <td>classic_bike</td>\n",
       "      <td>2021-10-23 23:33:22</td>\n",
       "      <td>2021-10-23 23:35:27</td>\n",
       "      <td>Kingsbury St &amp; Kinzie St</td>\n",
       "      <td>KA1503000043</td>\n",
       "      <td>Desplaines St &amp; Kinzie St</td>\n",
       "      <td>TA1306000003</td>\n",
       "      <td>41.889177</td>\n",
       "      <td>-87.638506</td>\n",
       "      <td>41.888716</td>\n",
       "      <td>-87.644448</td>\n",
       "      <td>member</td>\n",
       "    </tr>\n",
       "  </tbody>\n",
       "</table>\n",
       "</div>"
      ],
      "text/plain": [
       "             ride_id rideable_type          started_at            ended_at  \\\n",
       "25  614B15BC42810184   docked_bike 2021-10-05 10:56:05 2021-10-05 11:38:48   \n",
       "69  ADCC6E3CF9C04688  classic_bike 2021-10-06 13:55:33 2021-10-06 13:58:16   \n",
       "76  6184CC57243AEF3C   docked_bike 2021-10-16 10:19:43 2021-10-16 12:01:20   \n",
       "84  DE02D027BAC5C820   docked_bike 2021-10-24 11:03:34 2021-10-24 13:10:01   \n",
       "94  E7C9BADDF2308D0D  classic_bike 2021-10-23 23:33:22 2021-10-23 23:35:27   \n",
       "\n",
       "           start_station_name start_station_id           end_station_name  \\\n",
       "25      Michigan Ave & Oak St            13042      Michigan Ave & Oak St   \n",
       "69  Desplaines St & Kinzie St     TA1306000003   Kingsbury St & Kinzie St   \n",
       "76      Michigan Ave & Oak St            13042      Michigan Ave & Oak St   \n",
       "84      Michigan Ave & Oak St            13042      Michigan Ave & Oak St   \n",
       "94   Kingsbury St & Kinzie St     KA1503000043  Desplaines St & Kinzie St   \n",
       "\n",
       "   end_station_id  start_lat  start_lng    end_lat    end_lng member_casual  \n",
       "25          13042  41.900960 -87.623777  41.900960 -87.623777        casual  \n",
       "69   KA1503000043  41.888716 -87.644448  41.889177 -87.638506        member  \n",
       "76          13042  41.900960 -87.623777  41.900960 -87.623777        casual  \n",
       "84          13042  41.900960 -87.623777  41.900960 -87.623777        casual  \n",
       "94   TA1306000003  41.889177 -87.638506  41.888716 -87.644448        member  "
      ]
     },
     "execution_count": 71,
     "metadata": {},
     "output_type": "execute_result"
    }
   ],
   "source": [
    "# Dataframe with no test rides and no NaN values:\n",
    "no_nan_no_test_data.head(5)"
   ]
  },
  {
   "cell_type": "code",
   "execution_count": 72,
   "metadata": {},
   "outputs": [
    {
     "data": {
      "text/html": [
       "<div>\n",
       "<style scoped>\n",
       "    .dataframe tbody tr th:only-of-type {\n",
       "        vertical-align: middle;\n",
       "    }\n",
       "\n",
       "    .dataframe tbody tr th {\n",
       "        vertical-align: top;\n",
       "    }\n",
       "\n",
       "    .dataframe thead th {\n",
       "        text-align: right;\n",
       "    }\n",
       "</style>\n",
       "<table border=\"1\" class=\"dataframe\">\n",
       "  <thead>\n",
       "    <tr style=\"text-align: right;\">\n",
       "      <th></th>\n",
       "      <th>ride_id</th>\n",
       "      <th>rideable_type</th>\n",
       "      <th>started_at</th>\n",
       "      <th>ended_at</th>\n",
       "      <th>ride_time[s]</th>\n",
       "      <th>start_station_name</th>\n",
       "      <th>start_station_id</th>\n",
       "      <th>end_station_name</th>\n",
       "      <th>end_station_id</th>\n",
       "      <th>start_lat</th>\n",
       "      <th>start_lng</th>\n",
       "      <th>end_lat</th>\n",
       "      <th>end_lng</th>\n",
       "      <th>member_casual</th>\n",
       "    </tr>\n",
       "  </thead>\n",
       "  <tbody>\n",
       "    <tr>\n",
       "      <th>25</th>\n",
       "      <td>614B15BC42810184</td>\n",
       "      <td>docked_bike</td>\n",
       "      <td>2021-10-05 10:56:05</td>\n",
       "      <td>2021-10-05 11:38:48</td>\n",
       "      <td>2563.0</td>\n",
       "      <td>Michigan Ave &amp; Oak St</td>\n",
       "      <td>13042</td>\n",
       "      <td>Michigan Ave &amp; Oak St</td>\n",
       "      <td>13042</td>\n",
       "      <td>41.900960</td>\n",
       "      <td>-87.623777</td>\n",
       "      <td>41.900960</td>\n",
       "      <td>-87.623777</td>\n",
       "      <td>casual</td>\n",
       "    </tr>\n",
       "    <tr>\n",
       "      <th>69</th>\n",
       "      <td>ADCC6E3CF9C04688</td>\n",
       "      <td>classic_bike</td>\n",
       "      <td>2021-10-06 13:55:33</td>\n",
       "      <td>2021-10-06 13:58:16</td>\n",
       "      <td>163.0</td>\n",
       "      <td>Desplaines St &amp; Kinzie St</td>\n",
       "      <td>TA1306000003</td>\n",
       "      <td>Kingsbury St &amp; Kinzie St</td>\n",
       "      <td>KA1503000043</td>\n",
       "      <td>41.888716</td>\n",
       "      <td>-87.644448</td>\n",
       "      <td>41.889177</td>\n",
       "      <td>-87.638506</td>\n",
       "      <td>member</td>\n",
       "    </tr>\n",
       "    <tr>\n",
       "      <th>76</th>\n",
       "      <td>6184CC57243AEF3C</td>\n",
       "      <td>docked_bike</td>\n",
       "      <td>2021-10-16 10:19:43</td>\n",
       "      <td>2021-10-16 12:01:20</td>\n",
       "      <td>6097.0</td>\n",
       "      <td>Michigan Ave &amp; Oak St</td>\n",
       "      <td>13042</td>\n",
       "      <td>Michigan Ave &amp; Oak St</td>\n",
       "      <td>13042</td>\n",
       "      <td>41.900960</td>\n",
       "      <td>-87.623777</td>\n",
       "      <td>41.900960</td>\n",
       "      <td>-87.623777</td>\n",
       "      <td>casual</td>\n",
       "    </tr>\n",
       "    <tr>\n",
       "      <th>84</th>\n",
       "      <td>DE02D027BAC5C820</td>\n",
       "      <td>docked_bike</td>\n",
       "      <td>2021-10-24 11:03:34</td>\n",
       "      <td>2021-10-24 13:10:01</td>\n",
       "      <td>7587.0</td>\n",
       "      <td>Michigan Ave &amp; Oak St</td>\n",
       "      <td>13042</td>\n",
       "      <td>Michigan Ave &amp; Oak St</td>\n",
       "      <td>13042</td>\n",
       "      <td>41.900960</td>\n",
       "      <td>-87.623777</td>\n",
       "      <td>41.900960</td>\n",
       "      <td>-87.623777</td>\n",
       "      <td>casual</td>\n",
       "    </tr>\n",
       "    <tr>\n",
       "      <th>94</th>\n",
       "      <td>E7C9BADDF2308D0D</td>\n",
       "      <td>classic_bike</td>\n",
       "      <td>2021-10-23 23:33:22</td>\n",
       "      <td>2021-10-23 23:35:27</td>\n",
       "      <td>125.0</td>\n",
       "      <td>Kingsbury St &amp; Kinzie St</td>\n",
       "      <td>KA1503000043</td>\n",
       "      <td>Desplaines St &amp; Kinzie St</td>\n",
       "      <td>TA1306000003</td>\n",
       "      <td>41.889177</td>\n",
       "      <td>-87.638506</td>\n",
       "      <td>41.888716</td>\n",
       "      <td>-87.644448</td>\n",
       "      <td>member</td>\n",
       "    </tr>\n",
       "  </tbody>\n",
       "</table>\n",
       "</div>"
      ],
      "text/plain": [
       "             ride_id rideable_type          started_at            ended_at  \\\n",
       "25  614B15BC42810184   docked_bike 2021-10-05 10:56:05 2021-10-05 11:38:48   \n",
       "69  ADCC6E3CF9C04688  classic_bike 2021-10-06 13:55:33 2021-10-06 13:58:16   \n",
       "76  6184CC57243AEF3C   docked_bike 2021-10-16 10:19:43 2021-10-16 12:01:20   \n",
       "84  DE02D027BAC5C820   docked_bike 2021-10-24 11:03:34 2021-10-24 13:10:01   \n",
       "94  E7C9BADDF2308D0D  classic_bike 2021-10-23 23:33:22 2021-10-23 23:35:27   \n",
       "\n",
       "    ride_time[s]         start_station_name start_station_id  \\\n",
       "25        2563.0      Michigan Ave & Oak St            13042   \n",
       "69         163.0  Desplaines St & Kinzie St     TA1306000003   \n",
       "76        6097.0      Michigan Ave & Oak St            13042   \n",
       "84        7587.0      Michigan Ave & Oak St            13042   \n",
       "94         125.0   Kingsbury St & Kinzie St     KA1503000043   \n",
       "\n",
       "             end_station_name end_station_id  start_lat  start_lng    end_lat  \\\n",
       "25      Michigan Ave & Oak St          13042  41.900960 -87.623777  41.900960   \n",
       "69   Kingsbury St & Kinzie St   KA1503000043  41.888716 -87.644448  41.889177   \n",
       "76      Michigan Ave & Oak St          13042  41.900960 -87.623777  41.900960   \n",
       "84      Michigan Ave & Oak St          13042  41.900960 -87.623777  41.900960   \n",
       "94  Desplaines St & Kinzie St   TA1306000003  41.889177 -87.638506  41.888716   \n",
       "\n",
       "      end_lng member_casual  \n",
       "25 -87.623777        casual  \n",
       "69 -87.638506        member  \n",
       "76 -87.623777        casual  \n",
       "84 -87.623777        casual  \n",
       "94 -87.644448        member  "
      ]
     },
     "execution_count": 72,
     "metadata": {},
     "output_type": "execute_result"
    }
   ],
   "source": [
    "# Creating copy of the dataframe to add new column:\n",
    "df_ridetime = no_nan_no_test_data.copy(deep=True)\n",
    "\n",
    "# Adding new column with ride time:\n",
    "df_ridetime.insert(\n",
    "    loc=4, column='ride_time[s]', value=df_ridetime['ended_at'] - df_ridetime['started_at'])\n",
    "# Changing ride time to seconds:\n",
    "df_ridetime['ride_time[s]'] = df_ridetime['ride_time[s]'].astype(\n",
    "    'timedelta64[s]')\n",
    "\n",
    "df_ridetime.head(5)"
   ]
  },
  {
   "attachments": {},
   "cell_type": "markdown",
   "metadata": {},
   "source": [
    "All time values were calculated into seconds for further analysis."
   ]
  },
  {
   "attachments": {},
   "cell_type": "markdown",
   "metadata": {},
   "source": [
    "#### Checking for negative and irrelevant ride times:\n",
    "Negative ride time value means an input error which should not be considered. For the\n",
    "analysis purpose also the ride time below 60 seconds won’t be taken into account."
   ]
  },
  {
   "cell_type": "code",
   "execution_count": 73,
   "metadata": {},
   "outputs": [
    {
     "data": {
      "text/html": [
       "<div>\n",
       "<style scoped>\n",
       "    .dataframe tbody tr th:only-of-type {\n",
       "        vertical-align: middle;\n",
       "    }\n",
       "\n",
       "    .dataframe tbody tr th {\n",
       "        vertical-align: top;\n",
       "    }\n",
       "\n",
       "    .dataframe thead th {\n",
       "        text-align: right;\n",
       "    }\n",
       "</style>\n",
       "<table border=\"1\" class=\"dataframe\">\n",
       "  <thead>\n",
       "    <tr style=\"text-align: right;\">\n",
       "      <th></th>\n",
       "      <th>ride_id</th>\n",
       "      <th>rideable_type</th>\n",
       "      <th>started_at</th>\n",
       "      <th>ended_at</th>\n",
       "      <th>ride_time[s]</th>\n",
       "      <th>start_station_name</th>\n",
       "      <th>start_station_id</th>\n",
       "      <th>end_station_name</th>\n",
       "      <th>end_station_id</th>\n",
       "      <th>start_lat</th>\n",
       "      <th>start_lng</th>\n",
       "      <th>end_lat</th>\n",
       "      <th>end_lng</th>\n",
       "      <th>member_casual</th>\n",
       "    </tr>\n",
       "  </thead>\n",
       "  <tbody>\n",
       "    <tr>\n",
       "      <th>2874804</th>\n",
       "      <td>072E947E156D142D</td>\n",
       "      <td>electric_bike</td>\n",
       "      <td>2022-06-07 19:14:46</td>\n",
       "      <td>2022-06-07 17:07:45</td>\n",
       "      <td>-7621.0</td>\n",
       "      <td>W Armitage Ave &amp; N Sheffield Ave</td>\n",
       "      <td>20254.0</td>\n",
       "      <td>W Armitage Ave &amp; N Sheffield Ave</td>\n",
       "      <td>20254.0</td>\n",
       "      <td>41.920000</td>\n",
       "      <td>-87.650000</td>\n",
       "      <td>41.920000</td>\n",
       "      <td>-87.650000</td>\n",
       "      <td>casual</td>\n",
       "    </tr>\n",
       "    <tr>\n",
       "      <th>773317</th>\n",
       "      <td>FD8AF7324ABAE9DA</td>\n",
       "      <td>electric_bike</td>\n",
       "      <td>2021-11-07 01:56:51</td>\n",
       "      <td>2021-11-07 01:00:57</td>\n",
       "      <td>-3354.0</td>\n",
       "      <td>Clark St &amp; North Ave</td>\n",
       "      <td>13128</td>\n",
       "      <td>Larrabee St &amp; Webster Ave</td>\n",
       "      <td>13193</td>\n",
       "      <td>41.911738</td>\n",
       "      <td>-87.632145</td>\n",
       "      <td>41.921762</td>\n",
       "      <td>-87.644034</td>\n",
       "      <td>casual</td>\n",
       "    </tr>\n",
       "    <tr>\n",
       "      <th>757081</th>\n",
       "      <td>508B09A5FB0737DC</td>\n",
       "      <td>classic_bike</td>\n",
       "      <td>2021-11-07 01:54:50</td>\n",
       "      <td>2021-11-07 01:00:45</td>\n",
       "      <td>-3245.0</td>\n",
       "      <td>Sedgwick St &amp; Webster Ave</td>\n",
       "      <td>13191</td>\n",
       "      <td>Sedgwick St &amp; North Ave</td>\n",
       "      <td>TA1307000038</td>\n",
       "      <td>41.922167</td>\n",
       "      <td>-87.638888</td>\n",
       "      <td>41.911386</td>\n",
       "      <td>-87.638677</td>\n",
       "      <td>member</td>\n",
       "    </tr>\n",
       "    <tr>\n",
       "      <th>892046</th>\n",
       "      <td>6F9E76F5EDAAC1B8</td>\n",
       "      <td>electric_bike</td>\n",
       "      <td>2021-11-07 01:55:42</td>\n",
       "      <td>2021-11-07 01:01:55</td>\n",
       "      <td>-3227.0</td>\n",
       "      <td>Milwaukee Ave &amp; Wabansia Ave</td>\n",
       "      <td>13243</td>\n",
       "      <td>Western Ave &amp; Division St</td>\n",
       "      <td>13241</td>\n",
       "      <td>41.912580</td>\n",
       "      <td>-87.681424</td>\n",
       "      <td>41.902906</td>\n",
       "      <td>-87.687367</td>\n",
       "      <td>member</td>\n",
       "    </tr>\n",
       "    <tr>\n",
       "      <th>913899</th>\n",
       "      <td>7AECC76D1562B51C</td>\n",
       "      <td>classic_bike</td>\n",
       "      <td>2021-11-07 01:54:58</td>\n",
       "      <td>2021-11-07 01:01:29</td>\n",
       "      <td>-3209.0</td>\n",
       "      <td>Sheffield Ave &amp; Wrightwood Ave</td>\n",
       "      <td>TA1309000023</td>\n",
       "      <td>Southport Ave &amp; Wellington Ave</td>\n",
       "      <td>TA1307000006</td>\n",
       "      <td>41.928712</td>\n",
       "      <td>-87.653833</td>\n",
       "      <td>41.935733</td>\n",
       "      <td>-87.663576</td>\n",
       "      <td>casual</td>\n",
       "    </tr>\n",
       "  </tbody>\n",
       "</table>\n",
       "</div>"
      ],
      "text/plain": [
       "                  ride_id  rideable_type          started_at  \\\n",
       "2874804  072E947E156D142D  electric_bike 2022-06-07 19:14:46   \n",
       "773317   FD8AF7324ABAE9DA  electric_bike 2021-11-07 01:56:51   \n",
       "757081   508B09A5FB0737DC   classic_bike 2021-11-07 01:54:50   \n",
       "892046   6F9E76F5EDAAC1B8  electric_bike 2021-11-07 01:55:42   \n",
       "913899   7AECC76D1562B51C   classic_bike 2021-11-07 01:54:58   \n",
       "\n",
       "                   ended_at  ride_time[s]                start_station_name  \\\n",
       "2874804 2022-06-07 17:07:45       -7621.0  W Armitage Ave & N Sheffield Ave   \n",
       "773317  2021-11-07 01:00:57       -3354.0              Clark St & North Ave   \n",
       "757081  2021-11-07 01:00:45       -3245.0         Sedgwick St & Webster Ave   \n",
       "892046  2021-11-07 01:01:55       -3227.0      Milwaukee Ave & Wabansia Ave   \n",
       "913899  2021-11-07 01:01:29       -3209.0    Sheffield Ave & Wrightwood Ave   \n",
       "\n",
       "        start_station_id                  end_station_name end_station_id  \\\n",
       "2874804          20254.0  W Armitage Ave & N Sheffield Ave        20254.0   \n",
       "773317             13128         Larrabee St & Webster Ave          13193   \n",
       "757081             13191           Sedgwick St & North Ave   TA1307000038   \n",
       "892046             13243         Western Ave & Division St          13241   \n",
       "913899      TA1309000023    Southport Ave & Wellington Ave   TA1307000006   \n",
       "\n",
       "         start_lat  start_lng    end_lat    end_lng member_casual  \n",
       "2874804  41.920000 -87.650000  41.920000 -87.650000        casual  \n",
       "773317   41.911738 -87.632145  41.921762 -87.644034        casual  \n",
       "757081   41.922167 -87.638888  41.911386 -87.638677        member  \n",
       "892046   41.912580 -87.681424  41.902906 -87.687367        member  \n",
       "913899   41.928712 -87.653833  41.935733 -87.663576        casual  "
      ]
     },
     "execution_count": 73,
     "metadata": {},
     "output_type": "execute_result"
    }
   ],
   "source": [
    "# Sorting data by ride time:\n",
    "df_rt_sorted = df_ridetime.sort_values(by='ride_time[s]')\n",
    "\n",
    "df_rt_sorted.head(5)"
   ]
  },
  {
   "cell_type": "code",
   "execution_count": 74,
   "metadata": {},
   "outputs": [
    {
     "data": {
      "text/html": [
       "<div>\n",
       "<style scoped>\n",
       "    .dataframe tbody tr th:only-of-type {\n",
       "        vertical-align: middle;\n",
       "    }\n",
       "\n",
       "    .dataframe tbody tr th {\n",
       "        vertical-align: top;\n",
       "    }\n",
       "\n",
       "    .dataframe thead th {\n",
       "        text-align: right;\n",
       "    }\n",
       "</style>\n",
       "<table border=\"1\" class=\"dataframe\">\n",
       "  <thead>\n",
       "    <tr style=\"text-align: right;\">\n",
       "      <th></th>\n",
       "      <th>ride_id</th>\n",
       "      <th>rideable_type</th>\n",
       "      <th>started_at</th>\n",
       "      <th>ended_at</th>\n",
       "      <th>ride_time[s]</th>\n",
       "      <th>start_station_name</th>\n",
       "      <th>start_station_id</th>\n",
       "      <th>end_station_name</th>\n",
       "      <th>end_station_id</th>\n",
       "      <th>start_lat</th>\n",
       "      <th>start_lng</th>\n",
       "      <th>end_lat</th>\n",
       "      <th>end_lng</th>\n",
       "      <th>member_casual</th>\n",
       "    </tr>\n",
       "  </thead>\n",
       "  <tbody>\n",
       "    <tr>\n",
       "      <th>3375090</th>\n",
       "      <td>518842A851B2AB09</td>\n",
       "      <td>classic_bike</td>\n",
       "      <td>2022-06-14 22:50:40</td>\n",
       "      <td>2022-06-14 22:50:41</td>\n",
       "      <td>1.0</td>\n",
       "      <td>Aberdeen St &amp; Randolph St</td>\n",
       "      <td>18062</td>\n",
       "      <td>Aberdeen St &amp; Randolph St</td>\n",
       "      <td>18062</td>\n",
       "      <td>41.884114</td>\n",
       "      <td>-87.654264</td>\n",
       "      <td>41.884114</td>\n",
       "      <td>-87.654264</td>\n",
       "      <td>casual</td>\n",
       "    </tr>\n",
       "    <tr>\n",
       "      <th>4072471</th>\n",
       "      <td>16F2CC8569385923</td>\n",
       "      <td>classic_bike</td>\n",
       "      <td>2022-07-28 06:51:28</td>\n",
       "      <td>2022-07-28 06:51:29</td>\n",
       "      <td>1.0</td>\n",
       "      <td>Michigan Ave &amp; 18th St</td>\n",
       "      <td>13150</td>\n",
       "      <td>Michigan Ave &amp; 18th St</td>\n",
       "      <td>13150</td>\n",
       "      <td>41.857813</td>\n",
       "      <td>-87.624550</td>\n",
       "      <td>41.857813</td>\n",
       "      <td>-87.624550</td>\n",
       "      <td>casual</td>\n",
       "    </tr>\n",
       "    <tr>\n",
       "      <th>999601</th>\n",
       "      <td>D70F197C19431615</td>\n",
       "      <td>classic_bike</td>\n",
       "      <td>2021-12-08 10:32:53</td>\n",
       "      <td>2021-12-08 10:32:54</td>\n",
       "      <td>1.0</td>\n",
       "      <td>Ellis Ave &amp; 60th St</td>\n",
       "      <td>KA1503000014</td>\n",
       "      <td>Ellis Ave &amp; 60th St</td>\n",
       "      <td>KA1503000014</td>\n",
       "      <td>41.785097</td>\n",
       "      <td>-87.601073</td>\n",
       "      <td>41.785097</td>\n",
       "      <td>-87.601073</td>\n",
       "      <td>member</td>\n",
       "    </tr>\n",
       "    <tr>\n",
       "      <th>5610384</th>\n",
       "      <td>9A85764878A36E0D</td>\n",
       "      <td>electric_bike</td>\n",
       "      <td>2022-09-09 18:12:20</td>\n",
       "      <td>2022-09-09 18:12:21</td>\n",
       "      <td>1.0</td>\n",
       "      <td>Halsted St &amp; Roosevelt Rd</td>\n",
       "      <td>TA1305000017</td>\n",
       "      <td>Halsted St &amp; Roosevelt Rd</td>\n",
       "      <td>TA1305000017</td>\n",
       "      <td>41.867478</td>\n",
       "      <td>-87.648629</td>\n",
       "      <td>41.867324</td>\n",
       "      <td>-87.648625</td>\n",
       "      <td>member</td>\n",
       "    </tr>\n",
       "    <tr>\n",
       "      <th>4925780</th>\n",
       "      <td>B388D7C8C289BCD1</td>\n",
       "      <td>classic_bike</td>\n",
       "      <td>2022-08-03 18:06:42</td>\n",
       "      <td>2022-08-03 18:06:43</td>\n",
       "      <td>1.0</td>\n",
       "      <td>DuSable Lake Shore Dr &amp; North Blvd</td>\n",
       "      <td>LF-005</td>\n",
       "      <td>DuSable Lake Shore Dr &amp; North Blvd</td>\n",
       "      <td>LF-005</td>\n",
       "      <td>41.911722</td>\n",
       "      <td>-87.626804</td>\n",
       "      <td>41.911722</td>\n",
       "      <td>-87.626804</td>\n",
       "      <td>casual</td>\n",
       "    </tr>\n",
       "  </tbody>\n",
       "</table>\n",
       "</div>"
      ],
      "text/plain": [
       "                  ride_id  rideable_type          started_at  \\\n",
       "3375090  518842A851B2AB09   classic_bike 2022-06-14 22:50:40   \n",
       "4072471  16F2CC8569385923   classic_bike 2022-07-28 06:51:28   \n",
       "999601   D70F197C19431615   classic_bike 2021-12-08 10:32:53   \n",
       "5610384  9A85764878A36E0D  electric_bike 2022-09-09 18:12:20   \n",
       "4925780  B388D7C8C289BCD1   classic_bike 2022-08-03 18:06:42   \n",
       "\n",
       "                   ended_at  ride_time[s]                  start_station_name  \\\n",
       "3375090 2022-06-14 22:50:41           1.0           Aberdeen St & Randolph St   \n",
       "4072471 2022-07-28 06:51:29           1.0              Michigan Ave & 18th St   \n",
       "999601  2021-12-08 10:32:54           1.0                 Ellis Ave & 60th St   \n",
       "5610384 2022-09-09 18:12:21           1.0           Halsted St & Roosevelt Rd   \n",
       "4925780 2022-08-03 18:06:43           1.0  DuSable Lake Shore Dr & North Blvd   \n",
       "\n",
       "        start_station_id                    end_station_name end_station_id  \\\n",
       "3375090            18062           Aberdeen St & Randolph St          18062   \n",
       "4072471            13150              Michigan Ave & 18th St          13150   \n",
       "999601      KA1503000014                 Ellis Ave & 60th St   KA1503000014   \n",
       "5610384     TA1305000017           Halsted St & Roosevelt Rd   TA1305000017   \n",
       "4925780           LF-005  DuSable Lake Shore Dr & North Blvd         LF-005   \n",
       "\n",
       "         start_lat  start_lng    end_lat    end_lng member_casual  \n",
       "3375090  41.884114 -87.654264  41.884114 -87.654264        casual  \n",
       "4072471  41.857813 -87.624550  41.857813 -87.624550        casual  \n",
       "999601   41.785097 -87.601073  41.785097 -87.601073        member  \n",
       "5610384  41.867478 -87.648629  41.867324 -87.648625        member  \n",
       "4925780  41.911722 -87.626804  41.911722 -87.626804        casual  "
      ]
     },
     "execution_count": 74,
     "metadata": {},
     "output_type": "execute_result"
    }
   ],
   "source": [
    "# Checking for negative ride time values:\n",
    "df_rt_sorted[df_rt_sorted['ride_time[s]'] < 0]\n",
    "df_rt_sorted[df_rt_sorted['started_at'] > df_rt_sorted['ended_at']]\n",
    "\n",
    "# 71 wrong inputs with negative ride times. Deleting:\n",
    "df_rt_no_neg = df_rt_sorted[df_rt_sorted['ride_time[s]'] > 0]\n",
    "\n",
    "df_rt_no_neg.head(5)"
   ]
  },
  {
   "cell_type": "code",
   "execution_count": 75,
   "metadata": {},
   "outputs": [
    {
     "data": {
      "text/html": [
       "<div>\n",
       "<style scoped>\n",
       "    .dataframe tbody tr th:only-of-type {\n",
       "        vertical-align: middle;\n",
       "    }\n",
       "\n",
       "    .dataframe tbody tr th {\n",
       "        vertical-align: top;\n",
       "    }\n",
       "\n",
       "    .dataframe thead th {\n",
       "        text-align: right;\n",
       "    }\n",
       "</style>\n",
       "<table border=\"1\" class=\"dataframe\">\n",
       "  <thead>\n",
       "    <tr style=\"text-align: right;\">\n",
       "      <th></th>\n",
       "      <th>ride_id</th>\n",
       "      <th>rideable_type</th>\n",
       "      <th>started_at</th>\n",
       "      <th>ended_at</th>\n",
       "      <th>ride_time[s]</th>\n",
       "      <th>start_station_name</th>\n",
       "      <th>start_station_id</th>\n",
       "      <th>end_station_name</th>\n",
       "      <th>end_station_id</th>\n",
       "      <th>start_lat</th>\n",
       "      <th>start_lng</th>\n",
       "      <th>end_lat</th>\n",
       "      <th>end_lng</th>\n",
       "      <th>member_casual</th>\n",
       "    </tr>\n",
       "  </thead>\n",
       "  <tbody>\n",
       "    <tr>\n",
       "      <th>285875</th>\n",
       "      <td>AC270A9376DB67C9</td>\n",
       "      <td>classic_bike</td>\n",
       "      <td>2021-10-10 19:56:44</td>\n",
       "      <td>2021-10-10 19:57:44</td>\n",
       "      <td>60.0</td>\n",
       "      <td>Western Ave &amp; Congress Pkwy</td>\n",
       "      <td>15668</td>\n",
       "      <td>Western Ave &amp; Congress Pkwy</td>\n",
       "      <td>15668</td>\n",
       "      <td>41.874749</td>\n",
       "      <td>-87.686445</td>\n",
       "      <td>41.874749</td>\n",
       "      <td>-87.686445</td>\n",
       "      <td>member</td>\n",
       "    </tr>\n",
       "    <tr>\n",
       "      <th>570739</th>\n",
       "      <td>F3E6BBE3606C65C9</td>\n",
       "      <td>classic_bike</td>\n",
       "      <td>2021-10-31 22:14:32</td>\n",
       "      <td>2021-10-31 22:15:32</td>\n",
       "      <td>60.0</td>\n",
       "      <td>LaSalle St &amp; Jackson Blvd</td>\n",
       "      <td>TA1309000004</td>\n",
       "      <td>Dearborn St &amp; Adams St</td>\n",
       "      <td>TA1305000005</td>\n",
       "      <td>41.878166</td>\n",
       "      <td>-87.631929</td>\n",
       "      <td>41.879356</td>\n",
       "      <td>-87.629791</td>\n",
       "      <td>member</td>\n",
       "    </tr>\n",
       "    <tr>\n",
       "      <th>2667569</th>\n",
       "      <td>33C3E85CCE041276</td>\n",
       "      <td>classic_bike</td>\n",
       "      <td>2022-05-13 03:44:15</td>\n",
       "      <td>2022-05-13 03:45:15</td>\n",
       "      <td>60.0</td>\n",
       "      <td>Michigan Ave &amp; Oak St</td>\n",
       "      <td>13042</td>\n",
       "      <td>Michigan Ave &amp; Oak St</td>\n",
       "      <td>13042</td>\n",
       "      <td>41.900960</td>\n",
       "      <td>-87.623777</td>\n",
       "      <td>41.900960</td>\n",
       "      <td>-87.623777</td>\n",
       "      <td>member</td>\n",
       "    </tr>\n",
       "    <tr>\n",
       "      <th>5156557</th>\n",
       "      <td>0F44DD9C4BFC3E16</td>\n",
       "      <td>electric_bike</td>\n",
       "      <td>2022-09-12 15:12:06</td>\n",
       "      <td>2022-09-12 15:13:06</td>\n",
       "      <td>60.0</td>\n",
       "      <td>Western Ave &amp; Roscoe St</td>\n",
       "      <td>15634</td>\n",
       "      <td>Western Ave &amp; Roscoe St</td>\n",
       "      <td>15634</td>\n",
       "      <td>41.943056</td>\n",
       "      <td>-87.687301</td>\n",
       "      <td>41.943034</td>\n",
       "      <td>-87.687288</td>\n",
       "      <td>member</td>\n",
       "    </tr>\n",
       "    <tr>\n",
       "      <th>392319</th>\n",
       "      <td>D083FC64B85F2234</td>\n",
       "      <td>classic_bike</td>\n",
       "      <td>2021-10-13 11:36:32</td>\n",
       "      <td>2021-10-13 11:37:32</td>\n",
       "      <td>60.0</td>\n",
       "      <td>Orleans St &amp; Hubbard St</td>\n",
       "      <td>636</td>\n",
       "      <td>Wells St &amp; Hubbard St</td>\n",
       "      <td>TA1307000151</td>\n",
       "      <td>41.890028</td>\n",
       "      <td>-87.636618</td>\n",
       "      <td>41.889906</td>\n",
       "      <td>-87.634266</td>\n",
       "      <td>member</td>\n",
       "    </tr>\n",
       "  </tbody>\n",
       "</table>\n",
       "</div>"
      ],
      "text/plain": [
       "                  ride_id  rideable_type          started_at  \\\n",
       "285875   AC270A9376DB67C9   classic_bike 2021-10-10 19:56:44   \n",
       "570739   F3E6BBE3606C65C9   classic_bike 2021-10-31 22:14:32   \n",
       "2667569  33C3E85CCE041276   classic_bike 2022-05-13 03:44:15   \n",
       "5156557  0F44DD9C4BFC3E16  electric_bike 2022-09-12 15:12:06   \n",
       "392319   D083FC64B85F2234   classic_bike 2021-10-13 11:36:32   \n",
       "\n",
       "                   ended_at  ride_time[s]           start_station_name  \\\n",
       "285875  2021-10-10 19:57:44          60.0  Western Ave & Congress Pkwy   \n",
       "570739  2021-10-31 22:15:32          60.0    LaSalle St & Jackson Blvd   \n",
       "2667569 2022-05-13 03:45:15          60.0        Michigan Ave & Oak St   \n",
       "5156557 2022-09-12 15:13:06          60.0      Western Ave & Roscoe St   \n",
       "392319  2021-10-13 11:37:32          60.0      Orleans St & Hubbard St   \n",
       "\n",
       "        start_station_id             end_station_name end_station_id  \\\n",
       "285875             15668  Western Ave & Congress Pkwy          15668   \n",
       "570739      TA1309000004       Dearborn St & Adams St   TA1305000005   \n",
       "2667569            13042        Michigan Ave & Oak St          13042   \n",
       "5156557            15634      Western Ave & Roscoe St          15634   \n",
       "392319               636        Wells St & Hubbard St   TA1307000151   \n",
       "\n",
       "         start_lat  start_lng    end_lat    end_lng member_casual  \n",
       "285875   41.874749 -87.686445  41.874749 -87.686445        member  \n",
       "570739   41.878166 -87.631929  41.879356 -87.629791        member  \n",
       "2667569  41.900960 -87.623777  41.900960 -87.623777        member  \n",
       "5156557  41.943056 -87.687301  41.943034 -87.687288        member  \n",
       "392319   41.890028 -87.636618  41.889906 -87.634266        member  "
      ]
     },
     "execution_count": 75,
     "metadata": {},
     "output_type": "execute_result"
    }
   ],
   "source": [
    "# Checking for the low ride time values, assuming these are incorrect or irrelevant records (below 60s):\n",
    "df_rt_no_neg[df_rt_no_neg['ride_time[s]'] < 60]\n",
    "# There are 73439 inputs with ride time below 60s. Deleting:\n",
    "df_rt_cleaned = df_rt_sorted[df_rt_sorted['ride_time[s]'] >= 60]\n",
    "df_rt_cleaned.head(5)"
   ]
  },
  {
   "cell_type": "code",
   "execution_count": 76,
   "metadata": {},
   "outputs": [
    {
     "data": {
      "text/html": [
       "<div>\n",
       "<style scoped>\n",
       "    .dataframe tbody tr th:only-of-type {\n",
       "        vertical-align: middle;\n",
       "    }\n",
       "\n",
       "    .dataframe tbody tr th {\n",
       "        vertical-align: top;\n",
       "    }\n",
       "\n",
       "    .dataframe thead th {\n",
       "        text-align: right;\n",
       "    }\n",
       "</style>\n",
       "<table border=\"1\" class=\"dataframe\">\n",
       "  <thead>\n",
       "    <tr style=\"text-align: right;\">\n",
       "      <th></th>\n",
       "      <th>ride_id</th>\n",
       "      <th>rideable_type</th>\n",
       "      <th>started_at</th>\n",
       "      <th>ended_at</th>\n",
       "      <th>ride_time[s]</th>\n",
       "      <th>start_station_name</th>\n",
       "      <th>start_station_id</th>\n",
       "      <th>end_station_name</th>\n",
       "      <th>end_station_id</th>\n",
       "      <th>start_lat</th>\n",
       "      <th>start_lng</th>\n",
       "      <th>end_lat</th>\n",
       "      <th>end_lng</th>\n",
       "      <th>member_casual</th>\n",
       "    </tr>\n",
       "  </thead>\n",
       "  <tbody>\n",
       "    <tr>\n",
       "      <th>271143</th>\n",
       "      <td>ABA2BDC3595FC3E9</td>\n",
       "      <td>classic_bike</td>\n",
       "      <td>2021-10-01 00:00:09</td>\n",
       "      <td>2021-10-01 00:10:12</td>\n",
       "      <td>603.0</td>\n",
       "      <td>Morgan St &amp; Lake St</td>\n",
       "      <td>TA1306000015</td>\n",
       "      <td>Noble St &amp; Milwaukee Ave</td>\n",
       "      <td>13290</td>\n",
       "      <td>41.885483</td>\n",
       "      <td>-87.652305</td>\n",
       "      <td>41.900680</td>\n",
       "      <td>-87.662600</td>\n",
       "      <td>casual</td>\n",
       "    </tr>\n",
       "    <tr>\n",
       "      <th>117528</th>\n",
       "      <td>0BE9C131A5705D92</td>\n",
       "      <td>classic_bike</td>\n",
       "      <td>2021-10-01 00:00:16</td>\n",
       "      <td>2021-10-01 00:05:29</td>\n",
       "      <td>313.0</td>\n",
       "      <td>Damen Ave &amp; Cortland St</td>\n",
       "      <td>13133</td>\n",
       "      <td>Winchester Ave &amp; Elston Ave</td>\n",
       "      <td>KA1504000140</td>\n",
       "      <td>41.915983</td>\n",
       "      <td>-87.677335</td>\n",
       "      <td>41.924091</td>\n",
       "      <td>-87.676460</td>\n",
       "      <td>casual</td>\n",
       "    </tr>\n",
       "    <tr>\n",
       "      <th>341788</th>\n",
       "      <td>74483AC18C8C6B90</td>\n",
       "      <td>classic_bike</td>\n",
       "      <td>2021-10-01 00:00:18</td>\n",
       "      <td>2021-10-01 00:08:52</td>\n",
       "      <td>514.0</td>\n",
       "      <td>Halsted St &amp; Roscoe St</td>\n",
       "      <td>TA1309000025</td>\n",
       "      <td>Greenview Ave &amp; Diversey Pkwy</td>\n",
       "      <td>13294</td>\n",
       "      <td>41.943670</td>\n",
       "      <td>-87.648950</td>\n",
       "      <td>41.932590</td>\n",
       "      <td>-87.665936</td>\n",
       "      <td>casual</td>\n",
       "    </tr>\n",
       "    <tr>\n",
       "      <th>200504</th>\n",
       "      <td>F8DBF095F01E1B68</td>\n",
       "      <td>classic_bike</td>\n",
       "      <td>2021-10-01 00:02:22</td>\n",
       "      <td>2021-10-01 00:06:40</td>\n",
       "      <td>258.0</td>\n",
       "      <td>Pine Grove Ave &amp; Irving Park Rd</td>\n",
       "      <td>TA1308000022</td>\n",
       "      <td>Clarendon Ave &amp; Junior Ter</td>\n",
       "      <td>13389</td>\n",
       "      <td>41.954383</td>\n",
       "      <td>-87.648043</td>\n",
       "      <td>41.961004</td>\n",
       "      <td>-87.649603</td>\n",
       "      <td>member</td>\n",
       "    </tr>\n",
       "    <tr>\n",
       "      <th>21249</th>\n",
       "      <td>B0B9EB7622461EF4</td>\n",
       "      <td>classic_bike</td>\n",
       "      <td>2021-10-01 00:02:27</td>\n",
       "      <td>2021-10-01 00:17:56</td>\n",
       "      <td>929.0</td>\n",
       "      <td>MLK Jr Dr &amp; 29th St</td>\n",
       "      <td>TA1307000139</td>\n",
       "      <td>Clinton St &amp; Roosevelt Rd</td>\n",
       "      <td>WL-008</td>\n",
       "      <td>41.842052</td>\n",
       "      <td>-87.617000</td>\n",
       "      <td>41.867118</td>\n",
       "      <td>-87.641088</td>\n",
       "      <td>member</td>\n",
       "    </tr>\n",
       "  </tbody>\n",
       "</table>\n",
       "</div>"
      ],
      "text/plain": [
       "                 ride_id rideable_type          started_at  \\\n",
       "271143  ABA2BDC3595FC3E9  classic_bike 2021-10-01 00:00:09   \n",
       "117528  0BE9C131A5705D92  classic_bike 2021-10-01 00:00:16   \n",
       "341788  74483AC18C8C6B90  classic_bike 2021-10-01 00:00:18   \n",
       "200504  F8DBF095F01E1B68  classic_bike 2021-10-01 00:02:22   \n",
       "21249   B0B9EB7622461EF4  classic_bike 2021-10-01 00:02:27   \n",
       "\n",
       "                  ended_at  ride_time[s]               start_station_name  \\\n",
       "271143 2021-10-01 00:10:12         603.0              Morgan St & Lake St   \n",
       "117528 2021-10-01 00:05:29         313.0          Damen Ave & Cortland St   \n",
       "341788 2021-10-01 00:08:52         514.0           Halsted St & Roscoe St   \n",
       "200504 2021-10-01 00:06:40         258.0  Pine Grove Ave & Irving Park Rd   \n",
       "21249  2021-10-01 00:17:56         929.0              MLK Jr Dr & 29th St   \n",
       "\n",
       "       start_station_id               end_station_name end_station_id  \\\n",
       "271143     TA1306000015       Noble St & Milwaukee Ave          13290   \n",
       "117528            13133    Winchester Ave & Elston Ave   KA1504000140   \n",
       "341788     TA1309000025  Greenview Ave & Diversey Pkwy          13294   \n",
       "200504     TA1308000022     Clarendon Ave & Junior Ter          13389   \n",
       "21249      TA1307000139      Clinton St & Roosevelt Rd         WL-008   \n",
       "\n",
       "        start_lat  start_lng    end_lat    end_lng member_casual  \n",
       "271143  41.885483 -87.652305  41.900680 -87.662600        casual  \n",
       "117528  41.915983 -87.677335  41.924091 -87.676460        casual  \n",
       "341788  41.943670 -87.648950  41.932590 -87.665936        casual  \n",
       "200504  41.954383 -87.648043  41.961004 -87.649603        member  \n",
       "21249   41.842052 -87.617000  41.867118 -87.641088        member  "
      ]
     },
     "execution_count": 76,
     "metadata": {},
     "output_type": "execute_result"
    }
   ],
   "source": [
    "# Data sorted by date:\n",
    "df_sort_date = df_rt_cleaned.sort_values(by=\"started_at\")\n",
    "df_sort_date.head(5)"
   ]
  },
  {
   "attachments": {},
   "cell_type": "markdown",
   "metadata": {},
   "source": [
    "#### Deleting irrelevant columns such as ride id’s, station id’s and station coordinates:"
   ]
  },
  {
   "cell_type": "code",
   "execution_count": 77,
   "metadata": {},
   "outputs": [
    {
     "data": {
      "text/plain": [
       "Index(['ride_id', 'rideable_type', 'started_at', 'ended_at', 'ride_time[s]',\n",
       "       'start_station_name', 'start_station_id', 'end_station_name',\n",
       "       'end_station_id', 'start_lat', 'start_lng', 'end_lat', 'end_lng',\n",
       "       'member_casual'],\n",
       "      dtype='object')"
      ]
     },
     "execution_count": 77,
     "metadata": {},
     "output_type": "execute_result"
    }
   ],
   "source": [
    "# For the analysis purposes ride id's, station id's and coordinates are irrelevant.\n",
    "df_sort_date.columns"
   ]
  },
  {
   "cell_type": "code",
   "execution_count": 78,
   "metadata": {},
   "outputs": [
    {
     "data": {
      "text/html": [
       "<div>\n",
       "<style scoped>\n",
       "    .dataframe tbody tr th:only-of-type {\n",
       "        vertical-align: middle;\n",
       "    }\n",
       "\n",
       "    .dataframe tbody tr th {\n",
       "        vertical-align: top;\n",
       "    }\n",
       "\n",
       "    .dataframe thead th {\n",
       "        text-align: right;\n",
       "    }\n",
       "</style>\n",
       "<table border=\"1\" class=\"dataframe\">\n",
       "  <thead>\n",
       "    <tr style=\"text-align: right;\">\n",
       "      <th></th>\n",
       "      <th>rideable_type</th>\n",
       "      <th>started_at</th>\n",
       "      <th>ended_at</th>\n",
       "      <th>ride_time[s]</th>\n",
       "      <th>start_station_name</th>\n",
       "      <th>end_station_name</th>\n",
       "      <th>member_casual</th>\n",
       "    </tr>\n",
       "  </thead>\n",
       "  <tbody>\n",
       "    <tr>\n",
       "      <th>271143</th>\n",
       "      <td>classic_bike</td>\n",
       "      <td>2021-10-01 00:00:09</td>\n",
       "      <td>2021-10-01 00:10:12</td>\n",
       "      <td>603.0</td>\n",
       "      <td>Morgan St &amp; Lake St</td>\n",
       "      <td>Noble St &amp; Milwaukee Ave</td>\n",
       "      <td>casual</td>\n",
       "    </tr>\n",
       "    <tr>\n",
       "      <th>117528</th>\n",
       "      <td>classic_bike</td>\n",
       "      <td>2021-10-01 00:00:16</td>\n",
       "      <td>2021-10-01 00:05:29</td>\n",
       "      <td>313.0</td>\n",
       "      <td>Damen Ave &amp; Cortland St</td>\n",
       "      <td>Winchester Ave &amp; Elston Ave</td>\n",
       "      <td>casual</td>\n",
       "    </tr>\n",
       "    <tr>\n",
       "      <th>341788</th>\n",
       "      <td>classic_bike</td>\n",
       "      <td>2021-10-01 00:00:18</td>\n",
       "      <td>2021-10-01 00:08:52</td>\n",
       "      <td>514.0</td>\n",
       "      <td>Halsted St &amp; Roscoe St</td>\n",
       "      <td>Greenview Ave &amp; Diversey Pkwy</td>\n",
       "      <td>casual</td>\n",
       "    </tr>\n",
       "    <tr>\n",
       "      <th>200504</th>\n",
       "      <td>classic_bike</td>\n",
       "      <td>2021-10-01 00:02:22</td>\n",
       "      <td>2021-10-01 00:06:40</td>\n",
       "      <td>258.0</td>\n",
       "      <td>Pine Grove Ave &amp; Irving Park Rd</td>\n",
       "      <td>Clarendon Ave &amp; Junior Ter</td>\n",
       "      <td>member</td>\n",
       "    </tr>\n",
       "    <tr>\n",
       "      <th>21249</th>\n",
       "      <td>classic_bike</td>\n",
       "      <td>2021-10-01 00:02:27</td>\n",
       "      <td>2021-10-01 00:17:56</td>\n",
       "      <td>929.0</td>\n",
       "      <td>MLK Jr Dr &amp; 29th St</td>\n",
       "      <td>Clinton St &amp; Roosevelt Rd</td>\n",
       "      <td>member</td>\n",
       "    </tr>\n",
       "  </tbody>\n",
       "</table>\n",
       "</div>"
      ],
      "text/plain": [
       "       rideable_type          started_at            ended_at  ride_time[s]  \\\n",
       "271143  classic_bike 2021-10-01 00:00:09 2021-10-01 00:10:12         603.0   \n",
       "117528  classic_bike 2021-10-01 00:00:16 2021-10-01 00:05:29         313.0   \n",
       "341788  classic_bike 2021-10-01 00:00:18 2021-10-01 00:08:52         514.0   \n",
       "200504  classic_bike 2021-10-01 00:02:22 2021-10-01 00:06:40         258.0   \n",
       "21249   classic_bike 2021-10-01 00:02:27 2021-10-01 00:17:56         929.0   \n",
       "\n",
       "                     start_station_name               end_station_name  \\\n",
       "271143              Morgan St & Lake St       Noble St & Milwaukee Ave   \n",
       "117528          Damen Ave & Cortland St    Winchester Ave & Elston Ave   \n",
       "341788           Halsted St & Roscoe St  Greenview Ave & Diversey Pkwy   \n",
       "200504  Pine Grove Ave & Irving Park Rd     Clarendon Ave & Junior Ter   \n",
       "21249               MLK Jr Dr & 29th St      Clinton St & Roosevelt Rd   \n",
       "\n",
       "       member_casual  \n",
       "271143        casual  \n",
       "117528        casual  \n",
       "341788        casual  \n",
       "200504        member  \n",
       "21249         member  "
      ]
     },
     "execution_count": 78,
     "metadata": {},
     "output_type": "execute_result"
    }
   ],
   "source": [
    "columns_to_be_dropped = ['ride_id', 'start_station_id',\n",
    "                         'end_station_id', 'start_lat', 'start_lng', 'end_lat', 'end_lng']\n",
    "df_drop_columns = df_sort_date.drop(columns=columns_to_be_dropped)\n",
    "\n",
    "df_drop_columns.head(5)"
   ]
  },
  {
   "attachments": {},
   "cell_type": "markdown",
   "metadata": {},
   "source": [
    "#### Adding columns with the day of the week for each ride (0 – Monday, 6 – Sunday):"
   ]
  },
  {
   "cell_type": "code",
   "execution_count": 79,
   "metadata": {},
   "outputs": [
    {
     "data": {
      "text/html": [
       "<div>\n",
       "<style scoped>\n",
       "    .dataframe tbody tr th:only-of-type {\n",
       "        vertical-align: middle;\n",
       "    }\n",
       "\n",
       "    .dataframe tbody tr th {\n",
       "        vertical-align: top;\n",
       "    }\n",
       "\n",
       "    .dataframe thead th {\n",
       "        text-align: right;\n",
       "    }\n",
       "</style>\n",
       "<table border=\"1\" class=\"dataframe\">\n",
       "  <thead>\n",
       "    <tr style=\"text-align: right;\">\n",
       "      <th></th>\n",
       "      <th>rideable_type</th>\n",
       "      <th>started_at</th>\n",
       "      <th>ended_at</th>\n",
       "      <th>ride_time[s]</th>\n",
       "      <th>weekday</th>\n",
       "      <th>start_station_name</th>\n",
       "      <th>end_station_name</th>\n",
       "      <th>member_casual</th>\n",
       "    </tr>\n",
       "  </thead>\n",
       "  <tbody>\n",
       "    <tr>\n",
       "      <th>271143</th>\n",
       "      <td>classic_bike</td>\n",
       "      <td>2021-10-01 00:00:09</td>\n",
       "      <td>2021-10-01 00:10:12</td>\n",
       "      <td>603.0</td>\n",
       "      <td>4</td>\n",
       "      <td>Morgan St &amp; Lake St</td>\n",
       "      <td>Noble St &amp; Milwaukee Ave</td>\n",
       "      <td>casual</td>\n",
       "    </tr>\n",
       "    <tr>\n",
       "      <th>117528</th>\n",
       "      <td>classic_bike</td>\n",
       "      <td>2021-10-01 00:00:16</td>\n",
       "      <td>2021-10-01 00:05:29</td>\n",
       "      <td>313.0</td>\n",
       "      <td>4</td>\n",
       "      <td>Damen Ave &amp; Cortland St</td>\n",
       "      <td>Winchester Ave &amp; Elston Ave</td>\n",
       "      <td>casual</td>\n",
       "    </tr>\n",
       "    <tr>\n",
       "      <th>341788</th>\n",
       "      <td>classic_bike</td>\n",
       "      <td>2021-10-01 00:00:18</td>\n",
       "      <td>2021-10-01 00:08:52</td>\n",
       "      <td>514.0</td>\n",
       "      <td>4</td>\n",
       "      <td>Halsted St &amp; Roscoe St</td>\n",
       "      <td>Greenview Ave &amp; Diversey Pkwy</td>\n",
       "      <td>casual</td>\n",
       "    </tr>\n",
       "    <tr>\n",
       "      <th>200504</th>\n",
       "      <td>classic_bike</td>\n",
       "      <td>2021-10-01 00:02:22</td>\n",
       "      <td>2021-10-01 00:06:40</td>\n",
       "      <td>258.0</td>\n",
       "      <td>4</td>\n",
       "      <td>Pine Grove Ave &amp; Irving Park Rd</td>\n",
       "      <td>Clarendon Ave &amp; Junior Ter</td>\n",
       "      <td>member</td>\n",
       "    </tr>\n",
       "    <tr>\n",
       "      <th>21249</th>\n",
       "      <td>classic_bike</td>\n",
       "      <td>2021-10-01 00:02:27</td>\n",
       "      <td>2021-10-01 00:17:56</td>\n",
       "      <td>929.0</td>\n",
       "      <td>4</td>\n",
       "      <td>MLK Jr Dr &amp; 29th St</td>\n",
       "      <td>Clinton St &amp; Roosevelt Rd</td>\n",
       "      <td>member</td>\n",
       "    </tr>\n",
       "  </tbody>\n",
       "</table>\n",
       "</div>"
      ],
      "text/plain": [
       "       rideable_type          started_at            ended_at  ride_time[s]  \\\n",
       "271143  classic_bike 2021-10-01 00:00:09 2021-10-01 00:10:12         603.0   \n",
       "117528  classic_bike 2021-10-01 00:00:16 2021-10-01 00:05:29         313.0   \n",
       "341788  classic_bike 2021-10-01 00:00:18 2021-10-01 00:08:52         514.0   \n",
       "200504  classic_bike 2021-10-01 00:02:22 2021-10-01 00:06:40         258.0   \n",
       "21249   classic_bike 2021-10-01 00:02:27 2021-10-01 00:17:56         929.0   \n",
       "\n",
       "        weekday               start_station_name  \\\n",
       "271143        4              Morgan St & Lake St   \n",
       "117528        4          Damen Ave & Cortland St   \n",
       "341788        4           Halsted St & Roscoe St   \n",
       "200504        4  Pine Grove Ave & Irving Park Rd   \n",
       "21249         4              MLK Jr Dr & 29th St   \n",
       "\n",
       "                     end_station_name member_casual  \n",
       "271143       Noble St & Milwaukee Ave        casual  \n",
       "117528    Winchester Ave & Elston Ave        casual  \n",
       "341788  Greenview Ave & Diversey Pkwy        casual  \n",
       "200504     Clarendon Ave & Junior Ter        member  \n",
       "21249       Clinton St & Roosevelt Rd        member  "
      ]
     },
     "execution_count": 79,
     "metadata": {},
     "output_type": "execute_result"
    }
   ],
   "source": [
    "## Adding columns with the day of the week that each ride started\n",
    "# 0 - Monday, 6 - Sunday:\n",
    "df_drop_columns.insert(loc=4, column='weekday', value=df_ridetime['started_at'].dt.weekday)\n",
    "\n",
    "all_rides = df_drop_columns.copy(deep=True)\n",
    "all_rides.head(5)"
   ]
  },
  {
   "attachments": {},
   "cell_type": "markdown",
   "metadata": {},
   "source": [
    "#### Creating new column names for cleaned dataset:"
   ]
  },
  {
   "cell_type": "code",
   "execution_count": 80,
   "metadata": {},
   "outputs": [
    {
     "data": {
      "text/html": [
       "<div>\n",
       "<style scoped>\n",
       "    .dataframe tbody tr th:only-of-type {\n",
       "        vertical-align: middle;\n",
       "    }\n",
       "\n",
       "    .dataframe tbody tr th {\n",
       "        vertical-align: top;\n",
       "    }\n",
       "\n",
       "    .dataframe thead th {\n",
       "        text-align: right;\n",
       "    }\n",
       "</style>\n",
       "<table border=\"1\" class=\"dataframe\">\n",
       "  <thead>\n",
       "    <tr style=\"text-align: right;\">\n",
       "      <th></th>\n",
       "      <th>BikeType</th>\n",
       "      <th>RideStart</th>\n",
       "      <th>RideEnd</th>\n",
       "      <th>RideTime[s]</th>\n",
       "      <th>Weekday</th>\n",
       "      <th>StartStation</th>\n",
       "      <th>EndStation</th>\n",
       "      <th>UserType</th>\n",
       "    </tr>\n",
       "  </thead>\n",
       "  <tbody>\n",
       "    <tr>\n",
       "      <th>271143</th>\n",
       "      <td>classic_bike</td>\n",
       "      <td>2021-10-01 00:00:09</td>\n",
       "      <td>2021-10-01 00:10:12</td>\n",
       "      <td>603.0</td>\n",
       "      <td>4</td>\n",
       "      <td>Morgan St &amp; Lake St</td>\n",
       "      <td>Noble St &amp; Milwaukee Ave</td>\n",
       "      <td>casual</td>\n",
       "    </tr>\n",
       "    <tr>\n",
       "      <th>117528</th>\n",
       "      <td>classic_bike</td>\n",
       "      <td>2021-10-01 00:00:16</td>\n",
       "      <td>2021-10-01 00:05:29</td>\n",
       "      <td>313.0</td>\n",
       "      <td>4</td>\n",
       "      <td>Damen Ave &amp; Cortland St</td>\n",
       "      <td>Winchester Ave &amp; Elston Ave</td>\n",
       "      <td>casual</td>\n",
       "    </tr>\n",
       "    <tr>\n",
       "      <th>341788</th>\n",
       "      <td>classic_bike</td>\n",
       "      <td>2021-10-01 00:00:18</td>\n",
       "      <td>2021-10-01 00:08:52</td>\n",
       "      <td>514.0</td>\n",
       "      <td>4</td>\n",
       "      <td>Halsted St &amp; Roscoe St</td>\n",
       "      <td>Greenview Ave &amp; Diversey Pkwy</td>\n",
       "      <td>casual</td>\n",
       "    </tr>\n",
       "    <tr>\n",
       "      <th>200504</th>\n",
       "      <td>classic_bike</td>\n",
       "      <td>2021-10-01 00:02:22</td>\n",
       "      <td>2021-10-01 00:06:40</td>\n",
       "      <td>258.0</td>\n",
       "      <td>4</td>\n",
       "      <td>Pine Grove Ave &amp; Irving Park Rd</td>\n",
       "      <td>Clarendon Ave &amp; Junior Ter</td>\n",
       "      <td>member</td>\n",
       "    </tr>\n",
       "    <tr>\n",
       "      <th>21249</th>\n",
       "      <td>classic_bike</td>\n",
       "      <td>2021-10-01 00:02:27</td>\n",
       "      <td>2021-10-01 00:17:56</td>\n",
       "      <td>929.0</td>\n",
       "      <td>4</td>\n",
       "      <td>MLK Jr Dr &amp; 29th St</td>\n",
       "      <td>Clinton St &amp; Roosevelt Rd</td>\n",
       "      <td>member</td>\n",
       "    </tr>\n",
       "  </tbody>\n",
       "</table>\n",
       "</div>"
      ],
      "text/plain": [
       "            BikeType           RideStart             RideEnd  RideTime[s]  \\\n",
       "271143  classic_bike 2021-10-01 00:00:09 2021-10-01 00:10:12        603.0   \n",
       "117528  classic_bike 2021-10-01 00:00:16 2021-10-01 00:05:29        313.0   \n",
       "341788  classic_bike 2021-10-01 00:00:18 2021-10-01 00:08:52        514.0   \n",
       "200504  classic_bike 2021-10-01 00:02:22 2021-10-01 00:06:40        258.0   \n",
       "21249   classic_bike 2021-10-01 00:02:27 2021-10-01 00:17:56        929.0   \n",
       "\n",
       "        Weekday                     StartStation  \\\n",
       "271143        4              Morgan St & Lake St   \n",
       "117528        4          Damen Ave & Cortland St   \n",
       "341788        4           Halsted St & Roscoe St   \n",
       "200504        4  Pine Grove Ave & Irving Park Rd   \n",
       "21249         4              MLK Jr Dr & 29th St   \n",
       "\n",
       "                           EndStation UserType  \n",
       "271143       Noble St & Milwaukee Ave   casual  \n",
       "117528    Winchester Ave & Elston Ave   casual  \n",
       "341788  Greenview Ave & Diversey Pkwy   casual  \n",
       "200504     Clarendon Ave & Junior Ter   member  \n",
       "21249       Clinton St & Roosevelt Rd   member  "
      ]
     },
     "execution_count": 80,
     "metadata": {},
     "output_type": "execute_result"
    }
   ],
   "source": [
    "new_columns = {'rideable_type': 'BikeType',\n",
    "               'started_at': 'RideStart',\n",
    "               'ended_at': 'RideEnd',\n",
    "               'ride_time[s]': 'RideTime[s]',\n",
    "               'weekday': 'Weekday',\n",
    "               'start_station_name': 'StartStation',\n",
    "               'end_station_name': 'EndStation',\n",
    "               'member_casual': 'UserType'\n",
    "              }\n",
    "\n",
    "all_rides = all_rides.rename(columns=new_columns)\n",
    "\n",
    "all_rides.head(5)"
   ]
  },
  {
   "attachments": {},
   "cell_type": "markdown",
   "metadata": {},
   "source": [
    "#### Exporting clean dataset, ready for analysis:"
   ]
  },
  {
   "cell_type": "code",
   "execution_count": 81,
   "metadata": {},
   "outputs": [],
   "source": [
    "all_rides.to_csv('cleaned_data/cyclistic_202110-202209_cleaned.csv', index=False)"
   ]
  }
 ],
 "metadata": {
  "kernelspec": {
   "display_name": "Python 3",
   "language": "python",
   "name": "python3"
  },
  "language_info": {
   "codemirror_mode": {
    "name": "ipython",
    "version": 3
   },
   "file_extension": ".py",
   "mimetype": "text/x-python",
   "name": "python",
   "nbconvert_exporter": "python",
   "pygments_lexer": "ipython3",
   "version": "3.10.9"
  },
  "orig_nbformat": 4,
  "vscode": {
   "interpreter": {
    "hash": "cef1d38ca744d99e247d6c4d165e12a9aa3f29f1e83d9722af487dd60dc4e580"
   }
  }
 },
 "nbformat": 4,
 "nbformat_minor": 2
}
